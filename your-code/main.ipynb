{
 "cells": [
  {
   "cell_type": "code",
   "execution_count": 13,
   "metadata": {
    "ExecuteTime": {
     "end_time": "2021-04-20T12:36:09.030996Z",
     "start_time": "2021-04-20T12:36:09.027562Z"
    }
   },
   "outputs": [],
   "source": [
    "from scipy import stats \n",
    "from scipy.stats import binom\n",
    "import math"
   ]
  },
  {
   "cell_type": "markdown",
   "metadata": {
    "toc": true
   },
   "source": [
    "<h1>Table of Contents<span class=\"tocSkip\"></span></h1>\n",
    "<div class=\"toc\"><ul class=\"toc-item\"><li><span><a href=\"#Before-your-start:\" data-toc-modified-id=\"Before-your-start:-1\"><span class=\"toc-item-num\">1&nbsp;&nbsp;</span>Before your start:</a></span><ul class=\"toc-item\"><li><span><a href=\"#Bernoulli's-Distribution\" data-toc-modified-id=\"Bernoulli's-Distribution-1.1\"><span class=\"toc-item-num\">1.1&nbsp;&nbsp;</span>Bernoulli's Distribution</a></span></li><li><span><a href=\"#Binomial-Distribution\" data-toc-modified-id=\"Binomial-Distribution-1.2\"><span class=\"toc-item-num\">1.2&nbsp;&nbsp;</span>Binomial Distribution</a></span></li><li><span><a href=\"#Poisson-Distribution\" data-toc-modified-id=\"Poisson-Distribution-1.3\"><span class=\"toc-item-num\">1.3&nbsp;&nbsp;</span>Poisson Distribution</a></span></li><li><span><a href=\"#Binomial-Distribution\" data-toc-modified-id=\"Binomial-Distribution-1.4\"><span class=\"toc-item-num\">1.4&nbsp;&nbsp;</span>Binomial Distribution</a></span></li><li><span><a href=\"#Hypergeometric-Distribution-(BONUS)\" data-toc-modified-id=\"Hypergeometric-Distribution-(BONUS)-1.5\"><span class=\"toc-item-num\">1.5&nbsp;&nbsp;</span>Hypergeometric Distribution (BONUS)</a></span></li><li><span><a href=\"#BONUS-part-2\" data-toc-modified-id=\"BONUS-part-2-1.6\"><span class=\"toc-item-num\">1.6&nbsp;&nbsp;</span>BONUS part 2</a></span></li><li><span><a href=\"#Poisson-Distribution\" data-toc-modified-id=\"Poisson-Distribution-1.7\"><span class=\"toc-item-num\">1.7&nbsp;&nbsp;</span>Poisson Distribution</a></span></li><li><span><a href=\"#Binomial-Distribution\" data-toc-modified-id=\"Binomial-Distribution-1.8\"><span class=\"toc-item-num\">1.8&nbsp;&nbsp;</span>Binomial Distribution</a></span></li><li><span><a href=\"#Hypergeometric-Distribution-(BONUS)\" data-toc-modified-id=\"Hypergeometric-Distribution-(BONUS)-1.9\"><span class=\"toc-item-num\">1.9&nbsp;&nbsp;</span>Hypergeometric Distribution (BONUS)</a></span></li><li><span><a href=\"#BONUS-part-2\" data-toc-modified-id=\"BONUS-part-2-1.10\"><span class=\"toc-item-num\">1.10&nbsp;&nbsp;</span>BONUS part 2</a></span></li><li><span><a href=\"#Poisson-Distribution\" data-toc-modified-id=\"Poisson-Distribution-1.11\"><span class=\"toc-item-num\">1.11&nbsp;&nbsp;</span>Poisson Distribution</a></span></li></ul></li></ul></div>"
   ]
  },
  {
   "cell_type": "markdown",
   "metadata": {},
   "source": [
    "# Before your start:\n",
    "\n",
    "    Read the README.md file\n",
    "    Comment as much as you can and use the resources (README.md file)\n",
    "    Happy learning!\n",
    "\n",
    "*Notes:* \n",
    "\n",
    "- Solve the questions with python.\n",
    "\n",
    "- Round the final answer to three decimal places."
   ]
  },
  {
   "cell_type": "markdown",
   "metadata": {},
   "source": [
    "## Bernoulli's Distribution\n",
    "\n",
    "In a basket containing 100 fruits, there are 60 apples and 40 oranges. \n",
    "\n",
    "A fruit is picked randomly from the basket. \n",
    "\n",
    "1. **What is the probability that the fruit is apple?**\n",
    "1. **What is the probability that it is an orange?**"
   ]
  },
  {
   "cell_type": "code",
   "execution_count": 3,
   "metadata": {
    "ExecuteTime": {
     "end_time": "2021-04-20T10:51:09.488057Z",
     "start_time": "2021-04-20T10:51:09.484535Z"
    }
   },
   "outputs": [],
   "source": [
    "\"\"\"\n",
    "Calculate:\n",
    "p = probability that the fruit is an apple \n",
    "q = probability that the fruit is an orange\n",
    "\"\"\"\n",
    "\n",
    "p = 60/100\n",
    "q = 40/100"
   ]
  },
  {
   "cell_type": "markdown",
   "metadata": {},
   "source": [
    "Now we take a random sample of 20 fruits from the basket. After each fruit is taken, a new fruit of the same type is placed in the basket. Therefore, every time we are taking 1 fruit from the same 100 fruits (sample with replacements). \n",
    "\n",
    "1. **What is the probability that the first 5 fruits are all apples?**\n",
    "\n",
    "1. **What is the probability that the first 5 fruits are all apples and the next 15 fruits are all oranges?**\n",
    "\n",
    "You can include the `p` and `q` probabilities you previous calculated in your solution."
   ]
  },
  {
   "cell_type": "code",
   "execution_count": 4,
   "metadata": {
    "ExecuteTime": {
     "end_time": "2021-04-20T10:51:10.036098Z",
     "start_time": "2021-04-20T10:51:10.023911Z"
    }
   },
   "outputs": [
    {
     "data": {
      "text/plain": [
       "8.349416423424006e-08"
      ]
     },
     "execution_count": 4,
     "metadata": {},
     "output_type": "execute_result"
    }
   ],
   "source": [
    "#1. \n",
    "p**5\n",
    "#2. \n",
    "p**5 * q**15\n",
    "\n",
    "\n"
   ]
  },
  {
   "cell_type": "markdown",
   "metadata": {},
   "source": [
    "## Binomial Distribution\n",
    "\n",
    "Similar to the above problem, this time again we randomly sample 20 fruits (with replacements).\n",
    "\n",
    "**What is the probability that this time the sample contains 5 apples and 15 oranges?**\n",
    "\n",
    "Please note that this time the order of the fruits being picked does not matter."
   ]
  },
  {
   "cell_type": "code",
   "execution_count": 5,
   "metadata": {
    "ExecuteTime": {
     "end_time": "2021-04-20T10:51:11.235707Z",
     "start_time": "2021-04-20T10:51:11.215901Z"
    }
   },
   "outputs": [
    {
     "name": "stdout",
     "output_type": "stream",
     "text": [
      "probability is  0.0012944935222876511\n"
     ]
    }
   ],
   "source": [
    "n = 20\n",
    "binomial = binom(n,p)\n",
    "print(\"probability is \", binomial.pmf(5))"
   ]
  },
  {
   "cell_type": "markdown",
   "metadata": {},
   "source": [
    "In the lesson we also discussed CDF (cumulative distribution function). In Python, this can be calculated with the ```binom()``` function. Read the documentation in order to learn how to use it.\n",
    "\n",
    "\n",
    "In the context of the above problem, **what is the probability that from the 20 selected fruits, less than 5 fruits picked are apples?**\n",
    "\n",
    "Write the formula and calculate the probability below."
   ]
  },
  {
   "cell_type": "code",
   "execution_count": 11,
   "metadata": {
    "ExecuteTime": {
     "end_time": "2021-04-20T10:56:15.090398Z",
     "start_time": "2021-04-20T10:56:15.078408Z"
    }
   },
   "outputs": [
    {
     "name": "stdout",
     "output_type": "stream",
     "text": [
      "probability is  0.0003170311211686301\n"
     ]
    }
   ],
   "source": [
    "n = 20\n",
    "binomial = binom(n,p)\n",
    "print(\"probability is \", binomial.cdf(4))"
   ]
  },
  {
   "cell_type": "markdown",
   "metadata": {},
   "source": [
    "***Optional self learning: We will see matplotlib tomorrow.***\n",
    "\n",
    "**Plot the PDF (probability distributiom function) for the above binomial distribution.**\n",
    "\n",
    "*Hint: The range of x in a binomial distribution is from `0` to `n`.*"
   ]
  },
  {
   "cell_type": "code",
   "execution_count": null,
   "metadata": {},
   "outputs": [],
   "source": [
    "# your code here\n",
    "# Please label the axes and give a title to the plot "
   ]
  },
  {
   "cell_type": "markdown",
   "metadata": {},
   "source": [
    "## Hypergeometric Distribution (BONUS)\n",
    "\n",
    "Similar to the above problem, this time again we randomly sample 20 fruits, but this time we don't add any more fruits after selecting a fruit (sample without replacements).\n",
    "\n",
    "**What is the probability that this time the sample contains 5 apples and 15 oranges?**\n",
    "\n",
    "Please note that this time the order of the fruits being picked does not matter."
   ]
  },
  {
   "cell_type": "code",
   "execution_count": null,
   "metadata": {},
   "outputs": [],
   "source": [
    "# your code here"
   ]
  },
  {
   "cell_type": "markdown",
   "metadata": {},
   "source": [
    "## BONUS part 2\n",
    "In the lesson we also discussed CDF (cumulative distribution function). In Python, this can be calculated with the hypergeom() function. Read the documentation in order to learn how to use it.\n",
    "\n",
    "In the context of the above problem, what is the probability that from the 20 selected fruits, less than 5 fruits picked are apples?\n",
    "\n",
    "Write the formula and calculate the probability below."
   ]
  },
  {
   "cell_type": "code",
   "execution_count": null,
   "metadata": {
    "code_folding": []
   },
   "outputs": [],
   "source": [
    "# your code here"
   ]
  },
  {
   "cell_type": "markdown",
   "metadata": {},
   "source": [
    "## Poisson Distribution\n",
    "\n",
    "In this challenge you are required to use the Math library in Python to solve the problems.\n",
    "\n",
    "In the UEFA champions league tournament, the average number of goals scored in a match is 2.3. \n",
    "\n",
    "**What is the probability that the number of goals scored in a match is 5?**\n",
    "\n",
    "*Hint: Use the exp() in the math library*\n",
    "\n",
    "And to calculate the factorial, you can use the following code:\n",
    "\n",
    "```python\n",
    "import math\n",
    "math.factorial(n) # n is the number you want to find the factorial of\n",
    "```"
   ]
  },
  {
   "cell_type": "code",
   "execution_count": 14,
   "metadata": {
    "ExecuteTime": {
     "end_time": "2021-04-20T12:36:11.506430Z",
     "start_time": "2021-04-20T12:36:11.496610Z"
    }
   },
   "outputs": [
    {
     "data": {
      "text/plain": [
       "0.0537750255819468"
      ]
     },
     "execution_count": 14,
     "metadata": {},
     "output_type": "execute_result"
    }
   ],
   "source": [
    "x = 5\n",
    "mean = 2.3\n",
    "\n",
    "((mean**x)*math.exp(-2.3))/math.factorial(x)\n",
    "\n",
    "\n",
    "\n"
   ]
  },
  {
   "cell_type": "code",
   "execution_count": null,
   "metadata": {},
   "outputs": [],
   "source": []
  }
 ],
 "metadata": {
  "kernelspec": {
   "display_name": "Python 3",
   "language": "python",
   "name": "python3"
  },
  "language_info": {
   "codemirror_mode": {
    "name": "ipython",
    "version": 3
   },
   "file_extension": ".py",
   "mimetype": "text/x-python",
   "name": "python",
   "nbconvert_exporter": "python",
   "pygments_lexer": "ipython3",
   "version": "3.8.5"
  },
  "toc": {
   "base_numbering": 1,
   "nav_menu": {},
   "number_sections": true,
   "sideBar": true,
   "skip_h1_title": false,
   "title_cell": "Table of Contents",
   "title_sidebar": "Contents",
   "toc_cell": true,
   "toc_position": {},
   "toc_section_display": true,
   "toc_window_display": false
  },
  "varInspector": {
   "cols": {
    "lenName": 16,
    "lenType": 16,
    "lenVar": 40
   },
   "kernels_config": {
    "python": {
     "delete_cmd_postfix": "",
     "delete_cmd_prefix": "del ",
     "library": "var_list.py",
     "varRefreshCmd": "print(var_dic_list())"
    },
    "r": {
     "delete_cmd_postfix": ") ",
     "delete_cmd_prefix": "rm(",
     "library": "var_list.r",
     "varRefreshCmd": "cat(var_dic_list()) "
    }
   },
   "types_to_exclude": [
    "module",
    "function",
    "builtin_function_or_method",
    "instance",
    "_Feature"
   ],
   "window_display": false
  }
 },
 "nbformat": 4,
 "nbformat_minor": 4
}
