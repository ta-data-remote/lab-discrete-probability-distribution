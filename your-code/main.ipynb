{
 "cells": [
  {
   "cell_type": "markdown",
   "metadata": {},
   "source": [
    "# Before your start:\n",
    "\n",
    "    Read the README.md file\n",
    "    Comment as much as you can and use the resources (README.md file)\n",
    "    Happy learning!\n",
    "\n",
    "*Notes:* \n",
    "\n",
    "- Solve the questions with python.\n",
    "\n",
    "- Round the final answer to three decimal places."
   ]
  },
  {
   "cell_type": "markdown",
   "metadata": {},
   "source": [
    "## Bernoulli's Distribution\n",
    "\n",
    "In a basket containing 100 fruits, there are 60 apples and 40 oranges. \n",
    "\n",
    "A fruit is picked randomly from the basket. \n",
    "\n",
    "1. **What is the probability that the fruit is apple?**\n",
    "1. **What is the probability that it is an orange?**"
   ]
  },
  {
   "cell_type": "code",
   "execution_count": 144,
   "metadata": {
    "ExecuteTime": {
     "end_time": "2021-04-19T16:36:35.351612Z",
     "start_time": "2021-04-19T16:36:34.384272Z"
    }
   },
   "outputs": [],
   "source": [
    "from scipy import stats\n",
    "from scipy.stats import binom\n",
    "import math\n",
    "import matplotlib.pyplot as plt"
   ]
  },
  {
   "cell_type": "code",
   "execution_count": 2,
   "metadata": {
    "ExecuteTime": {
     "end_time": "2021-04-19T14:19:51.158393Z",
     "start_time": "2021-04-19T14:19:51.137735Z"
    }
   },
   "outputs": [
    {
     "name": "stdout",
     "output_type": "stream",
     "text": [
      "The probability that the fruit is an apple is: 60.0%\n",
      "The probability that the fruit is an orange is: 40.0%\n"
     ]
    }
   ],
   "source": [
    "\"\"\"\n",
    "Calculate:\n",
    "p = probability that the fruit is an apple \n",
    "q = probability that the fruit is an orange\n",
    "\"\"\"\n",
    "\n",
    "fruits = 100\n",
    "apples = 60\n",
    "oranges = 40\n",
    "\n",
    "p_apple = apples/fruits\n",
    "p_orange = 1-p_apple\n",
    "\n",
    "\n",
    "print('The probability that the fruit is an apple is: {}%'.format(round(p_apple*100,3)))\n",
    "print('The probability that the fruit is an orange is: {}%'.format(round(p_orange*100,3)))"
   ]
  },
  {
   "cell_type": "markdown",
   "metadata": {},
   "source": [
    "Now we take a random sample of 20 fruits from the basket. After each fruit is taken, a new fruit of the same type is placed in the basket. Therefore, every time we are taking 1 fruit from the same 100 fruits (sample with replacements). \n",
    "\n",
    "1. **What is the probability that the first 5 fruits are all apples?**\n",
    "\n",
    "1. **What is the probability that the first 5 fruits are all apples and the next 15 fruits are all oranges?**\n",
    "\n",
    "You can include the `p` and `q` probabilities you previous calculated in your solution."
   ]
  },
  {
   "cell_type": "code",
   "execution_count": 59,
   "metadata": {
    "ExecuteTime": {
     "end_time": "2021-04-19T14:53:22.696658Z",
     "start_time": "2021-04-19T14:53:22.632619Z"
    }
   },
   "outputs": [
    {
     "name": "stdout",
     "output_type": "stream",
     "text": [
      "The probability that the first 5 fruits are all apples is: 7.78 %\n",
      "The probability that the first 5 fruits are all apples and the next 15 fruits are all oranges is: 8.35e-06 %\n"
     ]
    }
   ],
   "source": [
    "p_5_apples = p_apple**5\n",
    "\n",
    "print('The probability that the first 5 fruits are all apples is: {:.3} %'.format(p_5_apples*100))\n",
    "\n",
    "binomial2 = binom(15,p_orange)\n",
    "\n",
    "p_5_ap_15_or = p_5_apples*p_orange**15\n",
    "\n",
    "print('The probability that the first 5 fruits are all apples and the next 15 fruits are all oranges is: {:.3} %'.format(p_5_ap_15_or*100))"
   ]
  },
  {
   "cell_type": "markdown",
   "metadata": {},
   "source": [
    "## Binomial Distribution\n",
    "\n",
    "Similar to the above problem, this time again we randomly sample 20 fruits, but this time we don't add any more fruits after selecting a fruit (sample without replacements).\n",
    "\n",
    "**What is the probability that this time the sample contains 5 apples and 15 oranges?**\n",
    "\n",
    "Please note that this time the order of the fruits being picked does not matter."
   ]
  },
  {
   "cell_type": "code",
   "execution_count": 124,
   "metadata": {
    "ExecuteTime": {
     "end_time": "2021-04-19T16:15:35.734790Z",
     "start_time": "2021-04-19T16:15:35.630349Z"
    }
   },
   "outputs": [
    {
     "name": "stdout",
     "output_type": "stream",
     "text": [
      "The probability that the the sample contains 5 apples and 15 oranges (without replacement) is: 0.041 %\n",
      "The probability that the the sample contains 5 apples and 15 oranges (with replacement) is: 0.129 %\n"
     ]
    }
   ],
   "source": [
    "#Without replacement:\n",
    "\n",
    "p2_5_15 = 1\n",
    "fruits2 = 100\n",
    "apples2 = 60\n",
    "oranges2 = 40\n",
    "\n",
    "for i in range(5):\n",
    "    \n",
    "    p2_5_15 *= (apples2/fruits2)\n",
    "    fruits2 -= 1\n",
    "    apples2 -= 1\n",
    "    \n",
    "for i in range(15):\n",
    "    \n",
    "    p2_5_15 *= (oranges2/fruits2)\n",
    "    oranges2 -= 1\n",
    "    fruits2 -= 1\n",
    "    \n",
    "p_5_15_comb = p2_5_15*math.factorial(20)/math.factorial(5)/math.factorial(15)\n",
    "print('The probability that the the sample contains 5 apples and 15 oranges (without replacement) is: {:.3} %'.format(p_5_15_comb*100))\n",
    "\n",
    "#If we assume there is replacement:\n",
    "\n",
    "binomial = binom(20,p_apple)\n",
    "\n",
    "p_5_15 = binomial.pmf(5)\n",
    "\n",
    "print('The probability that the the sample contains 5 apples and 15 oranges (with replacement) is: {:.3} %'.format(p_5_15*100))"
   ]
  },
  {
   "cell_type": "markdown",
   "metadata": {},
   "source": [
    "In the lesson we also discussed CDF (cumulative distribution function). In Python, this can be calculated with the ```binom()``` function. Read the documentation in order to learn how to use it.\n",
    "\n",
    "\n",
    "In the context of the above problem, **what is the probability that from the 20 selected fruits, less than 5 fruits picked are apples?**\n",
    "\n",
    "Write the formula and calculate the probability below."
   ]
  },
  {
   "cell_type": "code",
   "execution_count": 123,
   "metadata": {
    "ExecuteTime": {
     "end_time": "2021-04-19T15:58:58.444032Z",
     "start_time": "2021-04-19T15:58:58.432371Z"
    }
   },
   "outputs": [
    {
     "name": "stdout",
     "output_type": "stream",
     "text": [
      "The probability that from the 20 selected fruits, less than 5 fruits picked (without replacement) are apples is: 0.00632 %\n"
     ]
    }
   ],
   "source": [
    "hyp_geom = stats.hypergeom(100,60,20)\n",
    "\n",
    "p_less5 = hyp_geom.cdf(4)\n",
    "\n",
    "print('The probability that from the 20 selected fruits (without replacement), less than 5 fruits picked are apples is: {:3.5f} %'.format(p_less5*100))"
   ]
  },
  {
   "cell_type": "markdown",
   "metadata": {},
   "source": [
    "***Optional self learning: We will see matplotlib tomorrow.***\n",
    "\n",
    "**Plot the PDF (probability distributiom function) for the above binomial distribution.**\n",
    "\n",
    "*Hint: The range of x in a binomial distribution is from `0` to `n`.*"
   ]
  },
  {
   "cell_type": "code",
   "execution_count": 194,
   "metadata": {
    "ExecuteTime": {
     "end_time": "2021-04-19T17:21:02.430731Z",
     "start_time": "2021-04-19T17:21:02.206238Z"
    }
   },
   "outputs": [
    {
     "data": {
      "image/png": "[encoded data removed]",
      "text/plain": [
       "<Figure size 432x288 with 1 Axes>"
      ]
     },
     "metadata": {
      "needs_background": "light"
     },
     "output_type": "display_data"
    }
   ],
   "source": [
    "x_axis = list(range(21))\n",
    "\n",
    "plt.plot(x_axis,hyp_geom.pmf(x_axis)*100)\n",
    "\n",
    "plt.ylabel('Probability Mass Function*100, (%)')\n",
    "plt.xlabel('Number of apples, n')\n",
    "plt.title(\"Probability of picking 'n' apples w/o replacement\")\n",
    "plt.show()"
   ]
  },
  {
   "cell_type": "markdown",
   "metadata": {},
   "source": [
    "## Poisson Distribution\n",
    "\n",
    "In this challenge you are required to use the Math library in Python to solve the problems.\n",
    "\n",
    "In the UEFA champions league tournament, the average number of goals scored in a match is 2.3. \n",
    "\n",
    "**What is the probability that the number of goals scored in a match is 5?**\n",
    "\n",
    "*Hint: Use the exp() in the math library*\n",
    "\n",
    "And to calculate the factorial, you can use the following code:\n",
    "\n",
    "```python\n",
    "import math\n",
    "math.factorial(n) # n is the number you want to find the factorial of\n",
    "```"
   ]
  },
  {
   "cell_type": "code",
   "execution_count": 143,
   "metadata": {
    "ExecuteTime": {
     "end_time": "2021-04-19T16:35:32.827787Z",
     "start_time": "2021-04-19T16:35:32.818059Z"
    }
   },
   "outputs": [
    {
     "name": "stdout",
     "output_type": "stream",
     "text": [
      "The probability that the number of goals in a match is 5 is: 5.38 %\n"
     ]
    }
   ],
   "source": [
    "mean = 2.3\n",
    "poisson = lambda k: math.exp(-mean)*mean**k/math.factorial(k)\n",
    "\n",
    "print('The probability that the number of goals in a match is 5 is: {:2.2f} %'.format(poisson(5)*100))"
   ]
  },
  {
   "cell_type": "markdown",
   "metadata": {},
   "source": [
    "***Optional self learning: We will see matplotlib tomorrow.***\n",
    "\n",
    "\n",
    "**Draw a poisson probability distribution plot for the number of goals to be between 0 to 10.**"
   ]
  },
  {
   "cell_type": "code",
   "execution_count": 193,
   "metadata": {
    "ExecuteTime": {
     "end_time": "2021-04-19T17:20:52.723633Z",
     "start_time": "2021-04-19T17:20:52.528923Z"
    }
   },
   "outputs": [
    {
     "data": {
      "image/png": "[encoded data removed]",
      "text/plain": [
       "<Figure size 432x288 with 1 Axes>"
      ]
     },
     "metadata": {
      "needs_background": "light"
     },
     "output_type": "display_data"
    }
   ],
   "source": [
    "x_axis2 = list(range(11))\n",
    "\n",
    "results = [i*100 for i in list(map(poisson,x_axis2))]\n",
    "\n",
    "plt.plot(x_axis2,results)\n",
    "\n",
    "plt.ylabel('Probability Mass Function, (%)')\n",
    "plt.xlabel('Number of goals, n')\n",
    "plt.title(\"Probability of scoring 'n' goals in a single match\")\n",
    "plt.show()"
   ]
  }
 ],
 "metadata": {
  "kernelspec": {
   "display_name": "Python 3",
   "language": "python",
   "name": "python3"
  },
  "language_info": {
   "codemirror_mode": {
    "name": "ipython",
    "version": 3
   },
   "file_extension": ".py",
   "mimetype": "text/x-python",
   "name": "python",
   "nbconvert_exporter": "python",
   "pygments_lexer": "ipython3",
   "version": "3.8.5"
  },
  "latex_envs": {
   "LaTeX_envs_menu_present": true,
   "autoclose": false,
   "autocomplete": true,
   "bibliofile": "biblio.bib",
   "cite_by": "apalike",
   "current_citInitial": 1,
   "eqLabelWithNumbers": true,
   "eqNumInitial": 1,
   "hotkeys": {
    "equation": "Ctrl-E",
    "itemize": "Ctrl-I"
   },
   "labels_anchors": false,
   "latex_user_defs": false,
   "report_style_numbering": false,
   "user_envs_cfg": false
  },
  "varInspector": {
   "cols": {
    "lenName": 16,
    "lenType": 16,
    "lenVar": 40
   },
   "kernels_config": {
    "python": {
     "delete_cmd_postfix": "",
     "delete_cmd_prefix": "del ",
     "library": "var_list.py",
     "varRefreshCmd": "print(var_dic_list())"
    },
    "r": {
     "delete_cmd_postfix": ") ",
     "delete_cmd_prefix": "rm(",
     "library": "var_list.r",
     "varRefreshCmd": "cat(var_dic_list()) "
    }
   },
   "types_to_exclude": [
    "module",
    "function",
    "builtin_function_or_method",
    "instance",
    "_Feature"
   ],
   "window_display": false
  }
 },
 "nbformat": 4,
 "nbformat_minor": 4
}
